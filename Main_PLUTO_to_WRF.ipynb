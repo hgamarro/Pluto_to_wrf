{
 "cells": [
  {
   "cell_type": "code",
   "execution_count": 34,
   "metadata": {},
   "outputs": [],
   "source": [
    "from osgeo import gdal, ogr, osr\n",
    "import os\n",
    "import requests\n",
    "import zipfile\n",
    "import numpy as np \n",
    "import matplotlib.pyplot as plt\n",
    "import cartopy.crs as crs\n",
    "from cartopy.feature import NaturalEarthFeature\n",
    "from pyresample import kd_tree,bilinear, geometry\n",
    "from netCDF4 import Dataset\n",
    "from wrf import (to_np, getvar, smooth2d, get_cartopy, cartopy_xlim,\n",
    "                 cartopy_ylim, latlon_coords, WrfProj)\n",
    "import xarray as xr"
   ]
  },
  {
   "cell_type": "code",
   "execution_count": 6,
   "metadata": {},
   "outputs": [],
   "source": [
    "def factors(nr):\n",
    "    i = 2\n",
    "    factors = []\n",
    "    while i <= nr:\n",
    "        if (nr % i) == 0:\n",
    "            factors.append(i)\n",
    "            nr = nr / i\n",
    "        else:\n",
    "            i = i + 1\n",
    "    return factors"
   ]
  },
  {
   "cell_type": "markdown",
   "metadata": {},
   "source": [
    "### Download Shapefile from NYC PLUTO Site"
   ]
  },
  {
   "cell_type": "code",
   "execution_count": null,
   "metadata": {},
   "outputs": [],
   "source": [
    "# fname = 'nyc_mappluto_20v1_shp.zip'\n",
    "# url = 'https://www1.nyc.gov/assets/planning/download/zip/data-maps/open-data/nyc_mappluto_20v1_shp.zip'\n",
    "# r = requests.get(url)\n",
    "# open(fname , 'wb').write(r.content)\n",
    "\n",
    "# path = os.getcwd()\n",
    "# os.mkdir(path+\"/Pluto\")\n",
    "\n",
    "# zip = zipfile.ZipFile(fname)\n",
    "# zip.extractall(\"./Pluto\")"
   ]
  },
  {
   "cell_type": "markdown",
   "metadata": {},
   "source": [
    "### Load in Shapefile and rasterize"
   ]
  },
  {
   "cell_type": "code",
   "execution_count": 10,
   "metadata": {},
   "outputs": [
    {
     "name": "stdout",
     "output_type": "stream",
     "text": [
      "[2, 5, 59]\n",
      "[3, 3, 5, 13]\n"
     ]
    }
   ],
   "source": [
    "# Reads shapefile and save raster array to memory as np array \n",
    "vector_fn = './Pluto/MapPLUTO.shp'\n",
    "# Define pixel_size and NoData value of new raster\n",
    "# pixel_size = 30  #High res\n",
    "# pixel_size = 101  #med res\n",
    "pixel_size = 261  #Low res\n",
    "NoData_value = 255\n",
    "# Open the data source and read in the extent\n",
    "source_ds = ogr.Open(vector_fn)\n",
    "source_layer = source_ds.GetLayer()\n",
    "source_srs = source_layer.GetSpatialRef()\n",
    "layerDefinition = source_layer.GetLayerDefn()\n",
    "# for i in range(layerDefinition.GetFieldCount()):\n",
    "#     print(layerDefinition.GetFieldDefn(i).GetName())\n",
    "x_min, x_max, y_min, y_max = source_layer.GetExtent()\n",
    "# Create the destination data source\n",
    "x_res = int((x_max - x_min) / pixel_size)\n",
    "y_res = int((y_max - y_min) / pixel_size)\n",
    "target_ds = gdal.GetDriverByName('MEM').Create('', x_res, y_res, gdal.GDT_Float32)\n",
    "target_ds.SetGeoTransform((x_min, pixel_size, 0, y_max, 0, -pixel_size))\n",
    "band = target_ds.GetRasterBand(1)\n",
    "band.SetNoDataValue(NoData_value)\n",
    "print(factors(x_res))\n",
    "print(factors(y_res)) # need this for height histogram wy =5 & wx =5 when binning data, pick reasonable pixle window height and width "
   ]
  },
  {
   "cell_type": "code",
   "execution_count": 11,
   "metadata": {},
   "outputs": [],
   "source": [
    "gdal.RasterizeLayer(target_ds, [1], source_layer, options = [\"ATTRIBUTE=NumFloors\"])\n",
    "NumFloors = band.ReadAsArray()\n",
    "gdal.RasterizeLayer(target_ds, [1], source_layer, options = [\"ATTRIBUTE=GarageArea\"])\n",
    "GarageArea = band.ReadAsArray()\n",
    "gdal.RasterizeLayer(target_ds, [1], source_layer, options = [\"ATTRIBUTE=BldgArea\"])\n",
    "BldgArea = band.ReadAsArray()\n",
    "gdal.RasterizeLayer(target_ds, [1], source_layer, options = [\"ATTRIBUTE=LotArea\"])\n",
    "LotArea = band.ReadAsArray()\n",
    "gdal.RasterizeLayer(target_ds, [1], source_layer, options = [\"ATTRIBUTE=BldgFront\"])\n",
    "BldgFront = band.ReadAsArray()\n",
    "\n",
    "NumFloors = NumFloors.astype(float)  \n",
    "GarageArea =  GarageArea.astype(float)\n",
    "BldgArea =  BldgArea.astype(float)\n",
    "LotArea  = LotArea.astype(float)\n",
    "BldgFront =  BldgFront.astype(float)\n",
    "\n",
    "# Code below used to get lat lon grid for the rasters in the shapefile projection\n",
    "srs = osr.SpatialReference()\n",
    "srs.ImportFromWkt(source_srs.ExportToWkt())\n",
    "srsLatLong = srs.CloneGeogCS()\n",
    "ct = osr.CoordinateTransformation(srs, srsLatLong)\n",
    "#                                         Lat = Y     Long = X\n",
    "# Latitude and longitude coordinates are: 40.730610, -73.935242.\n",
    "(lat_min, lon_min, height) = ct.TransformPoint(x_min, y_min)\n",
    "(lat_max, lon_max, height) = ct.TransformPoint(x_max, y_max)\n",
    "lon = np.linspace(lon_min, lon_max, num=NumFloors.shape[1], endpoint=True)\n",
    "lat = np.linspace(lat_min, lat_max, num=NumFloors.shape[0], endpoint=True)\n",
    "lon_grid, lat_grid = np.meshgrid(lon, lat)"
   ]
  },
  {
   "cell_type": "markdown",
   "metadata": {},
   "source": [
    "### Compute UCP using raster data"
   ]
  },
  {
   "cell_type": "code",
   "execution_count": 14,
   "metadata": {},
   "outputs": [],
   "source": [
    "\"\"\" Compute the UCP's needed to run BEPBEM. We use Gutierrez's\n",
    "    methodology. We will compute the following UCP's:\n",
    "    urban area fraction\n",
    "    building height (and height histograms?)\n",
    "    building surface to height ratio\n",
    "    \n",
    "    PLUTO Variables used: NumFloors, GarageArea, BldgArea, LotArea, BldgFront\n",
    "\"\"\"\n",
    "\n",
    "\n",
    "\"\"\" According to Burian et al. (2008) we define the plan area\n",
    "    fraction as:\n",
    "        planAreaFrac = planArea/lotArea\n",
    "    where A_p is the total plan area of buildings. We compute A_p\n",
    "    from PLUTO fields as:\n",
    "        A_p = (buildArea - garageArea)/numFloors\n",
    "\"\"\"\n",
    "arr=BldgArea  - GarageArea \n",
    "arr[arr < 0] = 0\n",
    "\n",
    "PlanArea = np.divide(arr, NumFloors , out=np.zeros_like(arr), where=NumFloors !=0)\n",
    "planAreaFrac = np.divide(PlanArea, LotArea , out=np.zeros_like(PlanArea), where=LotArea !=0)\n",
    "planAreaFrac[LotArea  < PlanArea] = 1"
   ]
  },
  {
   "cell_type": "code",
   "execution_count": 15,
   "metadata": {},
   "outputs": [],
   "source": [
    "\"\"\" Compute building height from the number of floors in a\n",
    "                building. Floor height can be changed (default 5 m)\n",
    "\"\"\"\n",
    "floorheight=5\n",
    "buildheight = NumFloors *floorheight"
   ]
  },
  {
   "cell_type": "code",
   "execution_count": 16,
   "metadata": {},
   "outputs": [],
   "source": [
    "\"\"\" Compute the building surface area to plan area ratio:\n",
    "        surfplanratio = (2*buildheight/buildfront + 1)*buildfrac\n",
    "    INPUT:\n",
    "    buildhgt: building height in meters\n",
    "    buildfront: building frontage in meters\n",
    "    buildfrac: building plan area fraction\n",
    "\"\"\"\n",
    "buildwidth = BldgFront *.3048\n",
    "b=np.divide(2*buildheight, buildwidth, out=np.zeros_like(2*buildheight), where=buildwidth!=0)\n",
    "surfplanratio = (b + 1)*planAreaFrac"
   ]
  },
  {
   "cell_type": "code",
   "execution_count": 88,
   "metadata": {},
   "outputs": [],
   "source": [
    "# Based off of this https://stackoverflow.com/questions/46013731/trying-to-calculate-the-mean-of-a-sliding-window-of-an-image-python\n",
    "# Figuring out Building height histogram using a moving window based off the code from above\n",
    "img = buildheight\n",
    "# for 50 , 30 , 101 obtain from factors \n",
    "# wy =13 19 7\n",
    "# wx =3 5 7 \n",
    "# For pixle sz 261 this is the moving window width and height \n",
    "wy =5\n",
    "wx =5\n",
    "\n",
    "wy = wy or wx\n",
    "y, x = img.shape\n",
    "if x % wx != 0 or y % wy != 0:\n",
    "    raise ValueError(\"Invalid window size.\")\n",
    "ny = y // wy\n",
    "nx = x // wx\n",
    "windowed = img.reshape((ny, wy, nx, wx))\n",
    "\n",
    "def my_func(a): # special function to get histogram of height \"Bin the data\"\n",
    "    bins=np.arange(0,80,5)\n",
    "    hist_data=np.histogram(np.clip(a, bins[0], bins[-1]), bins=bins)\n",
    "    hist_data_norm=np.true_divide(hist_data[0], hist_data[0].sum())\n",
    "    return hist_data_norm\n",
    "\n",
    "means_temp=np.rollaxis(windowed,3,2).reshape(ny,wx*wy,nx)\n",
    "means_temp=np.apply_along_axis(my_func, 1, means_temp)\n",
    "means_temp_SP=np.swapaxes(means_temp,1,2)\n",
    "means_temp_RP = means_temp_SP.reshape(ny,1, nx,1, 15)\n",
    "means_temp_tile = np.tile(means_temp_RP, (1, wy, 1, wx,1))\n",
    "result = means_temp_tile.reshape((y, x,15))\n",
    "result[result>.9]=0\n",
    "# result[result == 0]=np.nan\n",
    "buildheighthist=result\n",
    "# np.savez('./pluto_array_data_FORMATED_coarse_res_px_261', planAreaFrac=planAreaFrac, buildheight=buildheight, surfplanratio=surfplanratio, buildheighthist=buildheighthist)"
   ]
  },
  {
   "cell_type": "code",
   "execution_count": 87,
   "metadata": {},
   "outputs": [],
   "source": [
    "# # Load in data in you saved it previously\n",
    "# npzfile = np.load('pluto_array_data_FORMATED_coarse_res_px_261.npz')\n",
    "# planAreaFrac = npzfile['planAreaFrac']\n",
    "# buildheight = npzfile['buildheight']\n",
    "# surfplanratio = npzfile['surfplanratio']\n",
    "# buildheighthist = npzfile['buildheighthist']\n",
    "# lon = np.linspace(lon_min, lon_max, num=buildheighthist.shape[1], endpoint=True)\n",
    "# lat = np.linspace(lat_min, lat_max, num=buildheighthist.shape[0], endpoint=True)\n",
    "# lon_grid, lat_grid = np.meshgrid(lon, lat)"
   ]
  },
  {
   "cell_type": "markdown",
   "metadata": {},
   "source": [
    "### Resample PLUTO Raster to WRF geo_em_d03 and export to nc file"
   ]
  },
  {
   "cell_type": "code",
   "execution_count": null,
   "metadata": {},
   "outputs": [],
   "source": [
    "# Variables from pluto ncl script || Registry.EM_COMMON data || data from real init script showing how real extracts variables from URB_PARAM variable\n",
    "#                 lu=a->LU_INDEX            # lup=b->LCLU_URB2D_NY\n",
    "# planAreaFrac    lp=a->BUILD_AREA_FRACTION # lpp=b->LP_URB2D_NY   ||  LP_URB2D \"BUILD_AREA_FRACTION\" \"BUILDING PLAN AREA DENSITY\"                        ||  grid%LP_URB2D(i,j)   = grid%URB_PARAM(i,91,j)\n",
    "# buildheight     bh=a->BUILD_HEIGHT        # bhp=b->HGT_URB2D_NY  ||  HGT_URB2D \"BUILD_HEIGHT\" \"AVERAGE BUILDING HEIGHT WEIGHTED BY BUILDING PLAN AREA\"  ||  grid%HGT_URB2D(i,j)  = grid%URB_PARAM(i,94,j)\n",
    "# surfplanratio   lb=a->BUILD_SURF_RATIO    # lbp=b->LB_URB2D_NY   ||  LB_URB2D  \"BUILD_SURF_RATIO\" \"BUILDING SURFACE AREA TO PLAN AREA RATIO\"            ||  grid%LB_URB2D(i,j)   = grid%URB_PARAM(i,95,j)\n",
    "# buildheighthist hi=a->HEIGHT_HISTOGRAMS   # hip=b->HI_URB2D_NY   ||  HI_URB2D  \"HEIGHT_HISTOGRAMS\" \"DISTRIBUTION OF BUILDING HEIGHTS\"                   ||  grid%HI_URB2D(i,k,j) = grid%URB_PARAM(i,k+117,j)"
   ]
  },
  {
   "cell_type": "code",
   "execution_count": 41,
   "metadata": {},
   "outputs": [],
   "source": [
    "def resample_pluto_to_WRF(pluto_var,lon_grid,lat_grid,GEO_EM_variable): # special function to get histogram of height \"Bin the data\"\n",
    "# Code below is used to resample planAreaFrac\n",
    "    data_rs=np.flipud(pluto_var)\n",
    "    orig_def = geometry.SwathDefinition(lons=lon_grid, lats=lat_grid)\n",
    "    targ_def = geometry.SwathDefinition(lons=GEO_EM_variable.XLONG_M.data.squeeze(), lats=GEO_EM_variable.XLAT_M.data.squeeze())\n",
    "    result_data_rs = kd_tree.resample_gauss(orig_def, data_rs ,targ_def, radius_of_influence=100, sigmas=100)\n",
    "#     orig_def_obj=orig_def.compute_optimal_bb_area()\n",
    "#     orig_def_bb=orig_def_obj.area_extent_ll\n",
    "#     targ_def_obj=targ_def.compute_optimal_bb_area()\n",
    "    return result_data_rs"
   ]
  },
  {
   "cell_type": "code",
   "execution_count": 86,
   "metadata": {},
   "outputs": [],
   "source": [
    "# Need to provide wrf geo_em_d03 in order to proceed\n",
    "GEO_EM_DATA = xr.open_dataset('geo_em.d03.nc')\n",
    "\n",
    "GEO_EM_DATA.URB_PARAM.data[:,90,:,:]=resample_pluto_to_WRF(planAreaFrac,lon_grid,lat_grid,GEO_EM_DATA)\n",
    "GEO_EM_DATA.URB_PARAM.data[:,93,:,:]=resample_pluto_to_WRF(buildheight,lon_grid,lat_grid,GEO_EM_DATA)\n",
    "GEO_EM_DATA.URB_PARAM.data[:,94,:,:]=resample_pluto_to_WRF(surfplanratio,lon_grid,lat_grid,GEO_EM_DATA)\n",
    "\n",
    "for idx, idy in zip(range(117,132), range(0,15)):\n",
    "    GEO_EM_DATA.URB_PARAM.data[:,idx,:,:]=resample_pluto_to_WRF(buildheighthist[:,:,idy],lon_grid,lat_grid,GEO_EM_DATA)\n",
    "    \n",
    "GEO_EM_DATA.to_netcdf('geo_em.d03.nc.UPDATED')"
   ]
  }
 ],
 "metadata": {
  "kernelspec": {
   "display_name": "Python 3",
   "language": "python",
   "name": "python3"
  },
  "language_info": {
   "codemirror_mode": {
    "name": "ipython",
    "version": 3
   },
   "file_extension": ".py",
   "mimetype": "text/x-python",
   "name": "python",
   "nbconvert_exporter": "python",
   "pygments_lexer": "ipython3",
   "version": "3.7.6"
  }
 },
 "nbformat": 4,
 "nbformat_minor": 4
}
